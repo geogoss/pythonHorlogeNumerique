{
 "cells": [
  {
   "cell_type": "code",
   "execution_count": 56,
   "id": "7d8d6015-29ff-4e5b-ad01-a93c80da2654",
   "metadata": {},
   "outputs": [],
   "source": [
    "from tkinter import *\n",
    "from tkinter.ttk import *\n",
    "from time import strftime"
   ]
  },
  {
   "cell_type": "code",
   "execution_count": 57,
   "id": "33270ff2-c1e8-408e-9ed4-de5b90a9cd46",
   "metadata": {},
   "outputs": [
    {
     "data": {
      "text/plain": [
       "''"
      ]
     },
     "execution_count": 57,
     "metadata": {},
     "output_type": "execute_result"
    }
   ],
   "source": [
    "root = Tk() \n",
    "root.title('Clock') \n",
    "root.resizable(1,2)"
   ]
  },
  {
   "cell_type": "code",
   "execution_count": 58,
   "id": "73a77a61-3b39-491b-ab62-607546aca58b",
   "metadata": {},
   "outputs": [],
   "source": [
    "def time():\n",
    "    string = strftime('%H:%M:%S %p') \n",
    "    lbl.config(text = string) \n",
    "    lbl.after(1000, time) "
   ]
  },
  {
   "cell_type": "code",
   "execution_count": 59,
   "id": "9b78695c-cc3e-4bb9-9648-1a7e525bdfcd",
   "metadata": {},
   "outputs": [],
   "source": [
    "lbl = Label(root, font = ('calibri', 40, 'bold'), \n",
    "            background = 'green', \n",
    "            foreground = 'white') "
   ]
  },
  {
   "cell_type": "code",
   "execution_count": 60,
   "id": "671b8341-27ad-43c3-bc49-c477ac9514fb",
   "metadata": {},
   "outputs": [],
   "source": [
    "lbl.pack(anchor = 'center') "
   ]
  },
  {
   "cell_type": "code",
   "execution_count": 61,
   "id": "4aa9a6ed-6325-4ac0-a98d-6da73b18df99",
   "metadata": {},
   "outputs": [],
   "source": [
    "time()"
   ]
  },
  {
   "cell_type": "code",
   "execution_count": null,
   "id": "799f0340-84cd-4082-8b2b-f43f8d700ce0",
   "metadata": {},
   "outputs": [],
   "source": [
    "mainloop()"
   ]
  },
  {
   "cell_type": "code",
   "execution_count": null,
   "id": "cecdb8c7-9754-478e-b20b-b04e9f79a12b",
   "metadata": {},
   "outputs": [],
   "source": []
  },
  {
   "cell_type": "code",
   "execution_count": null,
   "id": "05d1b88f-df4b-4e2b-88eb-6eced522b7c6",
   "metadata": {},
   "outputs": [],
   "source": []
  }
 ],
 "metadata": {
  "kernelspec": {
   "display_name": "Python 3 (ipykernel)",
   "language": "python",
   "name": "python3"
  },
  "language_info": {
   "codemirror_mode": {
    "name": "ipython",
    "version": 3
   },
   "file_extension": ".py",
   "mimetype": "text/x-python",
   "name": "python",
   "nbconvert_exporter": "python",
   "pygments_lexer": "ipython3",
   "version": "3.9.7"
  }
 },
 "nbformat": 4,
 "nbformat_minor": 5
}
